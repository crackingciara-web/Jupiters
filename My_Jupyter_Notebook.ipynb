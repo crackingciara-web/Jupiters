{
 "cells": [
  {
   "cell_type": "markdown",
   "metadata": {},
   "source": [
    "<center>\n",
    "    <img src=\"https://cf-courses-data.s3.us.cloud-object-storage.appdomain.cloud/IBMDeveloperSkillsNetwork-DS0105EN-SkillsNetwork/labs/Module2/images/SN_web_lightmode.png\" width=\"300\" alt=\"cognitiveclass.ai logo\">\n",
    "</center>\n"
   ]
  },
  {
   "cell_type": "markdown",
   "metadata": {},
   "source": [
    "#### Add your code below following the instructions given in the course\n"
   ]
  },
  {
   "cell_type": "markdown",
   "metadata": {},
   "source": [
    "# My Jupiter Notebook"
   ]
  },
  {
   "cell_type": "markdown",
   "metadata": {},
   "source": [
    "## Welcome to my very own Jupiter Notebook! In this Notebook i'll be doing various different exercises to explore my capabilities"
   ]
  },
  {
   "cell_type": "markdown",
   "metadata": {},
   "source": [
    "### Data Science Languages\n",
    "\n",
    "- Python  \n",
    "- R  \n",
    "- SQL  \n",
    "- Julia  \n",
    "- Scala  \n",
    "- Java  \n",
    "- C++"
   ]
  },
  {
   "cell_type": "markdown",
   "metadata": {},
   "source": [
    "### Data Science Libraries\n",
    "\n",
    "- pandas  \n",
    "- NumPy  \n",
    "- Matplotlib  \n",
    "- Seaborn  \n",
    "- Scikit-learn"
   ]
  },
  {
   "cell_type": "markdown",
   "metadata": {},
   "source": [
    "### Data Science Tools\n",
    "\n",
    "\n",
    "| Tool               |\n",
    "|--------------------|\n",
    "| Jupyter Notebook   |\n",
    "| JupyterLab         |\n",
    "| JupyterLite        |\n",
    "| Anaconda Navigator |\n",
    "| VS Code            |\n",
    "| Google Colaboratory|"
   ]
  },
  {
   "cell_type": "markdown",
   "metadata": {},
   "source": [
    "### Arithmetic Expression \n",
    "\n",
    "Arithmetic expressions are quite easy to memorize and very useful, when writing code we can find expressions such as addition (+), subtraction (-), multiplication (*), division (/), and exponentiation (**)\n",
    "There could be more but those are the most common ones.\n",
    "\n",
    "Here are some examples bellow: "
   ]
  },
  {
   "cell_type": "code",
   "execution_count": null,
   "metadata": {},
   "outputs": [],
   "source": [
    "# addition\n",
    "25+1864\n",
    "\n",
    "# multiplication\n",
    "51*49\n",
    "\n",
    "31*(2+6)"
   ]
  },
  {
   "cell_type": "code",
   "execution_count": 11,
   "metadata": {},
   "outputs": [
    {
     "name": "stdout",
     "output_type": "stream",
     "text": [
      "2.0\n",
      "1.5\n"
     ]
    }
   ],
   "source": [
    "# Minutes to hours\n",
    "\n",
    "def mintohour(x):\n",
    "    return x/60\n",
    "\n",
    "\n",
    "print(mintohour(120))\n",
    "print(mintohour(90))"
   ]
  },
  {
   "cell_type": "markdown",
   "metadata": {},
   "source": [
    "### Objectives\n",
    "\n",
    "- Prepare myself for future exercises\n",
    "- get comfy with tools for data science such as Jupiter Notebooks \n",
    "- finish this course"
   ]
  },
  {
   "cell_type": "markdown",
   "metadata": {},
   "source": [
    "**Author:** Yara Jones"
   ]
  }
 ],
 "metadata": {
  "kernelspec": {
   "display_name": "Python 3 (ipykernel)",
   "language": "python",
   "name": "python3"
  },
  "language_info": {
   "codemirror_mode": {
    "name": "ipython",
    "version": 3
   },
   "file_extension": ".py",
   "mimetype": "text/x-python",
   "name": "python",
   "nbconvert_exporter": "python",
   "pygments_lexer": "ipython3",
   "version": "3.12.8"
  }
 },
 "nbformat": 4,
 "nbformat_minor": 4
}
